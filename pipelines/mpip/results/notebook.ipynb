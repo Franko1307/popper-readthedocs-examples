{
 "cells": [
  {
   "cell_type": "code",
   "execution_count": 1,
   "metadata": {
    "collapsed": false
   },
   "outputs": [],
   "source": [
    "%matplotlib inline\n",
    "import pandas as pd\n",
    "import random\n",
    "import matplotlib.pyplot as plt\n",
    "import numpy as np\n",
    "import seaborn as sns\n",
    "\n",
    "sns.set_palette(sns.color_palette(\"hls\", 10))"
   ]
  },
  {
   "cell_type": "code",
   "execution_count": 2,
   "metadata": {
    "collapsed": false
   },
   "outputs": [
    {
     "name": "stdout",
     "output_type": "stream",
     "text": [
      "/home/jovyan/work/experiments/mpip/results/to_csv.py: lulesh2.0.8.7917.1.mpiP.csv already exists, skipping.\n"
     ]
    }
   ],
   "source": [
    "%run to_csv.py lulesh2.0.8.7917.1.mpiP"
   ]
  },
  {
   "cell_type": "code",
   "execution_count": 3,
   "metadata": {
    "collapsed": false
   },
   "outputs": [],
   "source": [
    "df = pd.read_csv('lulesh2.0.8.7917.1.mpiP.csv')"
   ]
  },
  {
   "cell_type": "code",
   "execution_count": 4,
   "metadata": {
    "collapsed": false
   },
   "outputs": [
    {
     "data": {
      "text/html": [
       "<div>\n",
       "<table border=\"1\" class=\"dataframe\">\n",
       "  <thead>\n",
       "    <tr style=\"text-align: right;\">\n",
       "      <th></th>\n",
       "      <th>Rank</th>\n",
       "      <th>AppTime</th>\n",
       "      <th>MPITime</th>\n",
       "      <th>MPI-pct</th>\n",
       "      <th>Allreduce_Count</th>\n",
       "      <th>Allreduce_Sum</th>\n",
       "      <th>Reduce_Count</th>\n",
       "      <th>Reduce_Sum</th>\n",
       "      <th>Isend_Count</th>\n",
       "      <th>Isend_Sum</th>\n",
       "      <th>...</th>\n",
       "      <th>Barrier_Count</th>\n",
       "      <th>Barrier_MPI-pct</th>\n",
       "      <th>Isend_Count.1</th>\n",
       "      <th>Isend_MPI-pct</th>\n",
       "      <th>Allreduce_Count.1</th>\n",
       "      <th>Allreduce_MPI-pct</th>\n",
       "      <th>Wait_Count</th>\n",
       "      <th>Wait_MPI-pct</th>\n",
       "      <th>Waitall_Count</th>\n",
       "      <th>Waitall_MPI-pct</th>\n",
       "    </tr>\n",
       "  </thead>\n",
       "  <tbody>\n",
       "    <tr>\n",
       "      <th>0</th>\n",
       "      <td>AllRanks</td>\n",
       "      <td>0.779</td>\n",
       "      <td>0.555</td>\n",
       "      <td>71.17</td>\n",
       "      <td>72</td>\n",
       "      <td>576</td>\n",
       "      <td>8</td>\n",
       "      <td>64</td>\n",
       "      <td>21</td>\n",
       "      <td>728</td>\n",
       "      <td>...</td>\n",
       "      <td>8</td>\n",
       "      <td>3.56</td>\n",
       "      <td>21</td>\n",
       "      <td>0.01</td>\n",
       "      <td>72</td>\n",
       "      <td>35.92</td>\n",
       "      <td>11</td>\n",
       "      <td>0.03</td>\n",
       "      <td>248</td>\n",
       "      <td>0.08</td>\n",
       "    </tr>\n",
       "  </tbody>\n",
       "</table>\n",
       "<p>1 rows × 24 columns</p>\n",
       "</div>"
      ],
      "text/plain": [
       "       Rank  AppTime  MPITime  MPI-pct  Allreduce_Count  Allreduce_Sum  \\\n",
       "0  AllRanks    0.779    0.555    71.17               72            576   \n",
       "\n",
       "   Reduce_Count  Reduce_Sum  Isend_Count  Isend_Sum       ...         \\\n",
       "0             8          64           21        728       ...          \n",
       "\n",
       "   Barrier_Count  Barrier_MPI-pct  Isend_Count.1  Isend_MPI-pct  \\\n",
       "0              8             3.56             21           0.01   \n",
       "\n",
       "   Allreduce_Count.1  Allreduce_MPI-pct  Wait_Count  Wait_MPI-pct  \\\n",
       "0                 72              35.92          11          0.03   \n",
       "\n",
       "   Waitall_Count  Waitall_MPI-pct  \n",
       "0            248             0.08  \n",
       "\n",
       "[1 rows x 24 columns]"
      ]
     },
     "execution_count": 4,
     "metadata": {},
     "output_type": "execute_result"
    }
   ],
   "source": [
    "df"
   ]
  },
  {
   "cell_type": "code",
   "execution_count": 5,
   "metadata": {
    "collapsed": false
   },
   "outputs": [
    {
     "data": {
      "text/plain": [
       "27.981680000000001"
      ]
     },
     "execution_count": 5,
     "metadata": {},
     "output_type": "execute_result"
    }
   ],
   "source": [
    "df.iloc[0]['Allreduce_MPI-pct'] * df.iloc[0]['AppTime']"
   ]
  },
  {
   "cell_type": "code",
   "execution_count": 6,
   "metadata": {
    "collapsed": false
   },
   "outputs": [],
   "source": [
    "cols=[\"Machine\", \"Allreduce\", \"Reduce\", \"Ircv\", \"Barrier\", \"Isend\", \"Wait\", \"Waitall\"]\n",
    "new_df = pd.DataFrame([[\n",
    "    \"dwill\",\n",
    "    (df.iloc[0]['Allreduce_MPI-pct'] * df.iloc[0]['AppTime']),\n",
    "    (df.iloc[0]['Reduce_MPI-pct'] * df.iloc[0]['AppTime']),\n",
    "    (df.iloc[0]['Irecv_MPI-pct'] * df.iloc[0]['AppTime']),\n",
    "    (df.iloc[0]['Isend_MPI-pct'] * df.iloc[0]['AppTime']),\n",
    "    (df.iloc[0]['Wait_MPI-pct'] * df.iloc[0]['AppTime']),\n",
    "    (df.iloc[0]['Waitall_MPI-pct'] * df.iloc[0]['AppTime']),\n",
    "    (df.iloc[0]['Barrier_MPI-pct'] * df.iloc[0]['AppTime'])]], columns=cols)"
   ]
  },
  {
   "cell_type": "code",
   "execution_count": 7,
   "metadata": {
    "collapsed": false
   },
   "outputs": [
    {
     "data": {
      "text/html": [
       "<div>\n",
       "<table border=\"1\" class=\"dataframe\">\n",
       "  <thead>\n",
       "    <tr style=\"text-align: right;\">\n",
       "      <th></th>\n",
       "      <th>Machine</th>\n",
       "      <th>Allreduce</th>\n",
       "      <th>Reduce</th>\n",
       "      <th>Ircv</th>\n",
       "      <th>Barrier</th>\n",
       "      <th>Isend</th>\n",
       "      <th>Wait</th>\n",
       "      <th>Waitall</th>\n",
       "    </tr>\n",
       "  </thead>\n",
       "  <tbody>\n",
       "    <tr>\n",
       "      <th>0</th>\n",
       "      <td>dwill</td>\n",
       "      <td>27.98168</td>\n",
       "      <td>0.48298</td>\n",
       "      <td>0.0</td>\n",
       "      <td>0.00779</td>\n",
       "      <td>0.02337</td>\n",
       "      <td>0.06232</td>\n",
       "      <td>2.77324</td>\n",
       "    </tr>\n",
       "  </tbody>\n",
       "</table>\n",
       "</div>"
      ],
      "text/plain": [
       "  Machine  Allreduce   Reduce  Ircv  Barrier    Isend     Wait  Waitall\n",
       "0   dwill   27.98168  0.48298   0.0  0.00779  0.02337  0.06232  2.77324"
      ]
     },
     "execution_count": 7,
     "metadata": {},
     "output_type": "execute_result"
    }
   ],
   "source": [
    "new_df"
   ]
  },
  {
   "cell_type": "code",
   "execution_count": 8,
   "metadata": {
    "collapsed": false
   },
   "outputs": [
    {
     "data": {
      "text/plain": [
       "<matplotlib.axes._subplots.AxesSubplot at 0x7fcf1f824750>"
      ]
     },
     "execution_count": 8,
     "metadata": {},
     "output_type": "execute_result"
    },
    {
     "data": {
      "image/png": "[encoded data removed]",
      "text/plain": [
       "<matplotlib.figure.Figure at 0x7fcf1f824f90>"
      ]
     },
     "metadata": {},
     "output_type": "display_data"
    }
   ],
   "source": [
    "new_df.groupby('Machine').sum().plot.bar(stacked=True)"
   ]
  },
  {
   "cell_type": "code",
   "execution_count": null,
   "metadata": {
    "collapsed": true
   },
   "outputs": [],
   "source": []
  }
 ],
 "metadata": {
  "kernelspec": {
   "display_name": "Python 2",
   "language": "python",
   "name": "python2"
  },
  "language_info": {
   "codemirror_mode": {
    "name": "ipython",
    "version": 2
   },
   "file_extension": ".py",
   "mimetype": "text/x-python",
   "name": "python",
   "nbconvert_exporter": "python",
   "pygments_lexer": "ipython2",
   "version": "2.7.12"
  }
 },
 "nbformat": 4,
 "nbformat_minor": 0
}
